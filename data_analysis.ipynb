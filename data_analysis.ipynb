{
 "cells": [
  {
   "cell_type": "markdown",
   "metadata": {},
   "source": [
    "# Purpose\n",
    "\n",
    "Understand the data, plot the thingies out and see what they look like"
   ]
  },
  {
   "cell_type": "code",
   "execution_count": null,
   "metadata": {},
   "outputs": [],
   "source": [
    "import numpy as np\n",
    "import pandas as pd\n",
    "import matplotlib.pyplot as plt\n",
    "import seaborn as sns\n",
    "import plotly.graph_objects as go\n",
    "\n",
    "pd.set_option('display.max_colwidth', None)"
   ]
  },
  {
   "cell_type": "code",
   "execution_count": null,
   "metadata": {},
   "outputs": [],
   "source": [
    "# %matplotlib widget"
   ]
  },
  {
   "cell_type": "code",
   "execution_count": null,
   "metadata": {},
   "outputs": [],
   "source": [
    "train_labels = pd.read_csv('stanford-rna-3d-folding/train_labels.csv')\n",
    "\n",
    "train_sequences = pd.read_csv('stanford-rna-3d-folding/train_sequences.csv')"
   ]
  },
  {
   "cell_type": "code",
   "execution_count": null,
   "metadata": {},
   "outputs": [],
   "source": [
    "# The different polymers in the database\n",
    "diff_polymers = train_labels['ID'].apply(lambda x: x.split('_')[0] + '_' + x.split('_')[1]).unique()\n",
    "\n",
    "sample_polymers = np.random.choice(diff_polymers, 5)\n",
    "\n",
    "sample_polymers"
   ]
  },
  {
   "cell_type": "code",
   "execution_count": null,
   "metadata": {},
   "outputs": [],
   "source": [
    "# print out all the things for a certain thing in labels\n",
    "display(train_labels[train_labels['ID'].str.contains(str(sample_polymers[0]))])\n",
    "\n",
    "# print out all the things for a certain thing in sequences\n",
    "display(train_sequences[train_sequences['target_id'] == sample_polymers[0]])"
   ]
  },
  {
   "cell_type": "code",
   "execution_count": null,
   "metadata": {},
   "outputs": [],
   "source": [
    "def display_fasta(file_path):\n",
    "    \"\"\"\n",
    "    Displays the contents of a FASTA file.\n",
    "\n",
    "    Args:\n",
    "        file_path (str): The path to the FASTA file.\n",
    "    \"\"\"\n",
    "    try:\n",
    "        with open(file_path, 'r') as file:\n",
    "            for line in file:\n",
    "                print(line, end='')\n",
    "    except FileNotFoundError:\n",
    "        print(f\"Error: File not found at {file_path}\")\n",
    "    except Exception as e:\n",
    "        print(f\"An error occurred: {e}\")\n",
    "\n",
    "# Example usage:\n",
    "# file_path = 'sequence.fasta'\n",
    "# display_fasta(file_path)"
   ]
  },
  {
   "cell_type": "code",
   "execution_count": null,
   "metadata": {},
   "outputs": [],
   "source": [
    "file_path = f'stanford-rna-3d-folding/MSA/{sample_polymers[0]}.MSA.fasta'\n",
    "display_fasta(file_path)"
   ]
  },
  {
   "cell_type": "markdown",
   "metadata": {},
   "source": [
    "# Plotting"
   ]
  },
  {
   "cell_type": "code",
   "execution_count": null,
   "metadata": {},
   "outputs": [],
   "source": [
    "def deconstruct_polymer(polymer_name: str, df: pd.DataFrame):\n",
    "    # Take in the name and df and returns x, y, z, res, polymer_name for all the things in that thing\n",
    "    all_monomers = df[df['ID'].str.contains(polymer_name)]\n",
    "\n",
    "    return np.array(all_monomers['x_1']), np.array(all_monomers['y_1']), np.array(all_monomers['z_1']), np.array(all_monomers['resname']), polymer_name"
   ]
  },
  {
   "cell_type": "code",
   "execution_count": null,
   "metadata": {},
   "outputs": [],
   "source": [
    "def plot_multiple_structures(structures: list) -> None:\n",
    "    fig = go.Figure()\n",
    "    \n",
    "    for i in range(len(structures)):\n",
    "        x, y, z, sequences, name = structures[i][0], structures[i][1], structures[i][2], structures[i][3], structures[i][4]\n",
    "\n",
    "        colors = {\"A\": \"red\", \"G\": \"blue\", \"C\": \"green\", \"U\": \"orange\"}\n",
    "\n",
    "\n",
    "        for resname, color in colors.items():\n",
    "            fig.add_trace(go.Scatter3d(\n",
    "                x=x[sequences == resname],\n",
    "                y=y[sequences == resname],\n",
    "                z=z[sequences == resname],\n",
    "                mode=\"markers\",\n",
    "                marker=dict(size=4, color=color),\n",
    "                name=resname\n",
    "            ))\n",
    "\n",
    "        fig.add_trace(go.Scatter3d(\n",
    "            x=x,\n",
    "            y=y,\n",
    "            z=z,\n",
    "            mode=\"lines\",\n",
    "            line=dict(color=\"black\", width=2),\n",
    "            name=\"RNA Backbone\"\n",
    "        ))\n",
    "\n",
    "        fig.update_layout(\n",
    "            scene=dict(\n",
    "                xaxis=dict(title_text=\"X\"),\n",
    "                yaxis=dict(title_text=\"Y\"),\n",
    "                zaxis=dict(title_text=\"Z\"),\n",
    "            ),\n",
    "            title=f\"RNA 3D Structure of {name}\",\n",
    "        )\n",
    "\n",
    "    fig.show()\n",
    "\n",
    "def plot_structure(x, y, z, sequences, name: str) -> None:\n",
    "    # Takes in the raw lists of x, y, z, and sequences and plots the 3D structure of the RNA\n",
    "    # The sequences are colored by the nucleotide they represent\n",
    "\n",
    "\n",
    "    # https://www.kaggle.com/code/asarvazyan/interactive-3d-sequence-visualization\n",
    "    colors = {\"A\": \"red\", \"G\": \"blue\", \"C\": \"green\", \"U\": \"orange\"}\n",
    "\n",
    "    fig = go.Figure()\n",
    "\n",
    "    for resname, color in colors.items():\n",
    "        fig.add_trace(go.Scatter3d(\n",
    "            x=x[sequences == resname],\n",
    "            y=y[sequences == resname],\n",
    "            z=z[sequences == resname],\n",
    "            mode=\"markers\",\n",
    "            marker=dict(size=4, color=color),\n",
    "            name=resname\n",
    "        ))\n",
    "    \n",
    "    fig.add_trace(go.Scatter3d(\n",
    "        x=x,\n",
    "        y=y,\n",
    "        z=z,\n",
    "        mode=\"lines\",\n",
    "        line=dict(color=\"black\", width=2),\n",
    "        name=\"RNA Backbone\"\n",
    "    ))\n",
    "\n",
    "    fig.update_layout(\n",
    "        scene=dict(\n",
    "            xaxis=dict(title_text=\"X\"),\n",
    "            yaxis=dict(title_text=\"Y\"),\n",
    "            zaxis=dict(title_text=\"Z\"),\n",
    "        ),\n",
    "        title=f\"RNA 3D Structure of {name}\",\n",
    "    )\n",
    "\n",
    "    fig.show()"
   ]
  },
  {
   "cell_type": "code",
   "execution_count": null,
   "metadata": {},
   "outputs": [],
   "source": [
    "first = list(deconstruct_polymer(sample_polymers[0], train_labels))\n",
    "second = list(deconstruct_polymer(sample_polymers[1], train_labels))\n",
    "plot_multiple_structures([first, second])\n",
    "# print(x)\n",
    "# display(np.array(list(zip(x, y, z))).tolist())"
   ]
  },
  {
   "cell_type": "code",
   "execution_count": null,
   "metadata": {},
   "outputs": [],
   "source": [
    "x, y, z, sequences, name = deconstruct_polymer(sample_polymers[0], train_labels)\n",
    "plot_structure(x, y, z, sequences, name)\n",
    "print(x)\n",
    "# display(np.array(list(zip(x, y, z))).tolist())"
   ]
  },
  {
   "cell_type": "code",
   "execution_count": null,
   "metadata": {},
   "outputs": [],
   "source": [
    "# plot out a couple of polymers or something\n",
    "for i in sample_polymers:\n",
    "    x, y, z, sequences, name = deconstruct_polymer(i, train_labels)\n",
    "    plot_structure(x, y, z, sequences, name)\n",
    "    display(np.array(list(zip(x, y, z))).tolist())"
   ]
  },
  {
   "cell_type": "markdown",
   "metadata": {},
   "source": [
    "# FASTA stuff"
   ]
  },
  {
   "cell_type": "code",
   "execution_count": null,
   "metadata": {},
   "outputs": [],
   "source": [
    "train_sequences"
   ]
  },
  {
   "cell_type": "code",
   "execution_count": null,
   "metadata": {},
   "outputs": [],
   "source": [
    "train_labels"
   ]
  },
  {
   "cell_type": "code",
   "execution_count": null,
   "metadata": {},
   "outputs": [],
   "source": []
  }
 ],
 "metadata": {
  "kernelspec": {
   "display_name": "venv",
   "language": "python",
   "name": "python3"
  },
  "language_info": {
   "codemirror_mode": {
    "name": "ipython",
    "version": 3
   },
   "file_extension": ".py",
   "mimetype": "text/x-python",
   "name": "python",
   "nbconvert_exporter": "python",
   "pygments_lexer": "ipython3",
   "version": "3.12.3"
  }
 },
 "nbformat": 4,
 "nbformat_minor": 4
}
